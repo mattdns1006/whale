{
 "cells": [
  {
   "cell_type": "code",
   "execution_count": 1,
   "metadata": {
    "collapsed": false
   },
   "outputs": [
    {
     "name": "stderr",
     "output_type": "stream",
     "text": [
      "Using TensorFlow backend.\n"
     ]
    }
   ],
   "source": [
    "import tensorflow as tf\n",
    "import loadData\n",
    "import model\n",
    "import numpy as np\n",
    "import glob, sys\n",
    "import matplotlib.pyplot as plt\n",
    "import tqdm \n",
    "%matplotlib inline\n",
    "\n",
    "sys.path.append(\"/home/msmith/misc/py/\")\n",
    "sys.path.append(\"/home/msmith/misc/tfFunctions/\")\n",
    "\n",
    "from dice import dice\n",
    "from performance import performance\n",
    "from hStackBatch import hStackBatch\n",
    "from IPython.display import clear_output\n",
    "\n",
    "def showBatch(x,y,yPred,unnormalize=1):\n",
    "    x, y, yPred = [hStackBatch(im) for im in [x,y,yPred]]\n",
    "    if unnormalize == 1:\n",
    "        x *= 255\n",
    "        y *= 255\n",
    "        yPred *= 255\n",
    "\n",
    "    x,y,yPred = [im.astype(np.uint8).squeeze()[:,:,::-1] for im in [x,y,yPred]]\n",
    "    print(\"*\"*100)\n",
    "    plt.figure(figsize=(15,15))\n",
    "    plt.subplot(311)\n",
    "    plt.imshow(x)\n",
    "    plt.subplot(312)\n",
    "    plt.imshow(np.vstack((y,yPred)))\n",
    "    plt.show()\n",
    "\n",
    "def mse(y,yPred):\n",
    "\treturn tf.reduce_mean(tf.square(tf.sub(y,yPred)))\n",
    "\n",
    "def trainer(loss,learningRate,momentum=0.9):\n",
    "    return tf.train.AdamOptimizer(learningRate).minimize(loss)\n",
    "\n"
   ]
  },
  {
   "cell_type": "code",
   "execution_count": null,
   "metadata": {
    "collapsed": false,
    "scrolled": false
   },
   "outputs": [
    {
     "name": "stdout",
     "output_type": "stream",
     "text": [
      "Model dims\n",
      "('Layer 1 = ', [None, 600, 900, 3])\n",
      "('Layer 2 = ', [None, 300, 450, 32])\n",
      "('Layer 3 = ', [None, 150, 225, 64])\n",
      "('Layer 4 = ', [None, 75, 113, 96])\n",
      "('Layer 5 = ', [None, 38, 57, 128])\n",
      "('Layer 6 = ', [None, 38, 57, 3])\n",
      "('Layer 7 = ', [None, 38, 57, 3])\n"
     ]
    }
   ],
   "source": [
    "if __name__ == \"__main__\":\n",
    "\n",
    "        import matplotlib.pyplot as plt\n",
    "\n",
    "        learningRate = 0.01\n",
    "        load = 1\n",
    "        diceThreshold = 0.5\n",
    "        nEpochs = 30\n",
    "        batchSize = 4\n",
    "        trPaths = glob.glob(\"../augmented/train/x_*\")\n",
    "        tePaths = glob.glob(\"../augmented/test/x_*\")\n",
    "        modelName = \"model.tf\"\n",
    "       \n",
    "        x, y, yPred = model.main()\n",
    "\n",
    "        loss = mse(yPred,y)\n",
    "        diceScore, _ = dice(yPred,y,diceThreshold)\n",
    "        lr = tf.placeholder(tf.float32)\n",
    "        train = trainer(loss,lr)\n",
    "\n",
    "        saver = tf.train.Saver()\n",
    "        \n",
    "        trPerformance = performance(\"train\")\n",
    "        tePerformance = performance(\"test\")\n",
    "        with tf.Session() as sess:\n",
    "            if load == 1: \n",
    "                saver.restore(sess,modelName)\n",
    "            else:\n",
    "                init = tf.initialize_all_variables()\n",
    "                sess.run(init)\n",
    "            \n",
    "\n",
    "            for epoch in range(nEpochs):\n",
    "                \n",
    "                finTr = finTe = 0\n",
    "                print(\"EPOCH {0} of {1}\".format(epoch,nEpochs))\n",
    "                print(learningRate)\n",
    "                trFeed = loadData.feed(inDims = [batchSize,600,900,3], outDims = [batchSize,38,57,3], paths = trPaths)\n",
    "                teFeed = loadData.feed(inDims = [batchSize,600,900,3], outDims = [batchSize,38,57,3], paths = tePaths)\n",
    "\n",
    "                while finTr == 0:\n",
    "                    X,Y,finTr = trFeed.next()\n",
    "                    _, loss_, diceScore_, yPred_ = sess.run([train,loss,diceScore,yPred], feed_dict = {x:X,y:Y,lr:learningRate})\n",
    "                    trPerformance.add(loss_,diceScore_)\n",
    "                    if np.random.uniform() < 0.003:\n",
    "                        showBatch(X,Y,yPred_,unnormalize=1)\n",
    "                        trPerformance.displayCurrentPerformance()\n",
    "               \n",
    "                while finTe == 0:\n",
    "                    X,Y,finTe = teFeed.next()\n",
    "                    loss_, diceScore_, yPred_ = sess.run([loss,diceScore,yPred], feed_dict = {x:X,y:Y})\n",
    "                    tePerformance.add(loss_,diceScore_)\n",
    "                    if np.random.uniform() < 0.003:\n",
    "                        showBatch(X,Y,yPred_,unnormalize=1)\n",
    "                        tePerformance.displayCurrentPerformance()\n",
    "                        \n",
    "                clear_output()\n",
    "                \n",
    "                trPerformance.endEpoch()\n",
    "                tePerformance.endEpoch()\n",
    "\n",
    "                trPerformance.displayEpochPerformance()\n",
    "                tePerformance.displayEpochPerformance()\n",
    "                \n",
    "                if epoch % 2 == 0 or epoch == nEpochs-1:\n",
    "                    if epoch > 0:\n",
    "                        learningRate/= 1.5\n",
    "                        print(\"Dropped learning rate to {0:.6f}\".format(learningRate))\n",
    "                    print(\"Saving\")\n",
    "                    save_path = saver.save(sess, modelName)\n",
    "                "
   ]
  }
 ],
 "metadata": {
  "kernelspec": {
   "display_name": "Python 2",
   "language": "python",
   "name": "python2"
  },
  "language_info": {
   "codemirror_mode": {
    "name": "ipython",
    "version": 2
   },
   "file_extension": ".py",
   "mimetype": "text/x-python",
   "name": "python",
   "nbconvert_exporter": "python",
   "pygments_lexer": "ipython2",
   "version": "2.7.6"
  }
 },
 "nbformat": 4,
 "nbformat_minor": 0
}
