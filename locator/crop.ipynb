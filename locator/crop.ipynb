{
 "cells": [
  {
   "cell_type": "code",
   "execution_count": 1,
   "metadata": {
    "collapsed": false
   },
   "outputs": [],
   "source": [
    "import os\n",
    "import glob\n",
    "import numpy as np\n",
    "import matplotlib.pyplot as plt\n",
    "import matplotlib.cm as cm\n",
    "from PIL import Image\n",
    "from pylab import rcParams\n",
    "from scipy.ndimage.interpolation import rotate, zoom\n",
    "import scipy as sp\n",
    "import cv2\n",
    "%matplotlib inline\n",
    "import sys\n",
    "from tqdm import tqdm\n",
    "import argparse\n",
    "from IPython.display import clear_output\n",
    "\n",
    "sys.path.append(\"/home/msmith/misc/pcaRotate/\") # Helper function\n",
    "from pcaRotate import main as rotate\n",
    "from pcaRotate import getRedHSV\n",
    "from pylab import rcParams\n",
    "rcParams[\"figure.figsize\"] = 30,25\n",
    "#np.random.seed(1006)\n",
    "import pickle\n",
    "\n",
    "def saveList(wp,lst):\n",
    "    with open(wp, 'wb') as fp:\n",
    "        pickle.dump(lst, fp)\n",
    "\n",
    "def show(wp,orig,mask,maskRot,red,thresh,croppedHead):\n",
    "    \n",
    "    plt.suptitle(wp)\n",
    "    \n",
    "    plt.subplot(161)\n",
    "    plt.imshow(orig)\n",
    "    plt.subplot(162)\n",
    "    plt.imshow(mask)\n",
    "    plt.subplot(163)\n",
    "    plt.imshow(maskRot,cmap=cm.gray)\n",
    "    plt.subplot(164)\n",
    "    plt.imshow(red,cmap=cm.gray)\n",
    "    plt.subplot(165)\n",
    "    plt.imshow(thresh,cmap=cm.gray)\n",
    "    plt.subplot(166)\n",
    "    plt.imshow(croppedHead)\n",
    "    plt.show()"
   ]
  },
  {
   "cell_type": "code",
   "execution_count": null,
   "metadata": {
    "collapsed": false,
    "scrolled": true
   },
   "outputs": [
    {
     "name": "stderr",
     "output_type": "stream",
     "text": [
      "\r",
      "  0%|          | 0/11468 [00:00<?, ?it/s]"
     ]
    },
    {
     "name": "stdout",
     "output_type": "stream",
     "text": [
      "Make sure image is in RGB order not BGR\n"
     ]
    },
    {
     "name": "stderr",
     "output_type": "stream",
     "text": [
      "  0%|          | 14/11468 [00:15<2:23:25,  1.33it/s]"
     ]
    }
   ],
   "source": [
    "if __name__ == \"__main__\": \n",
    "    \n",
    "    ss = 0\n",
    "    save = 1\n",
    "    if ss == 1:\n",
    "        maskPath = \"m1_ss_\"\n",
    "        dstPath = \"head_ss_\"\n",
    "        ext = \"ss_\"\n",
    "    else:\n",
    "        maskPath = \"m1_\"\n",
    "        dstPath = \"head_\"\n",
    "        ext = \"[0-9]\"\n",
    "    \n",
    "    imgPaths = glob.glob(\"/home/msmith/kaggle/whale/imgs/whale*/m1_{0}*\".format(ext))\n",
    "    testPaths = glob.glob(\"/home/msmith/kaggle/whale/imgs/test*/m1_{0}*\".format(ext))\n",
    "    print(\"Make sure image is in RGB order not BGR\")\n",
    "    imgPaths.sort()\n",
    "    imgPaths += testPaths\n",
    "\n",
    "    cantSave = []\n",
    "    linAlgError = []\n",
    "    outSize = 500\n",
    "    w = h = outSize\n",
    "    count = 0\n",
    "    for path in tqdm(imgPaths):\n",
    "        \n",
    "        try:\n",
    "            orig, mask = [cv2.imread(x)[:,:,::-1] for x in [path.replace(maskPath,\"w1_\"),path]]\n",
    "            croppedHead, maskRot, red, thresh, fail = rotate(orig=orig,mask=mask,ellipseThresh=8,hThr=[0.06,0.95],vThr=0.1,cntThresh=0.000001,pad=50,outSize=outSize)\n",
    "           \n",
    "            wp = path.replace(maskPath,dstPath)\n",
    "\n",
    "            if fail != 0:\n",
    "                print(\"couldn't save {0}. Fail type = {1}\".format(wp,fail))\n",
    "                cantSave.append([wp,fail])\n",
    "                \n",
    "            else:\n",
    "                croppedHead = cv2.resize(croppedHead,(w,h),interpolation=cv2.INTER_LINEAR)\n",
    "                if save == 1:\n",
    "                    cv2.imwrite(wp,croppedHead)\n",
    "                    #print(\"Saved in {0}.\".format(wp))\n",
    "\n",
    "                if np.random.uniform() < 0.01:\n",
    "                    show(wp,orig,mask,maskRot,red,thresh,croppedHead)\n",
    "                    count += 1\n",
    "\n",
    "                if count == 10:\n",
    "                    clear_output()\n",
    "                    count = 0\n",
    "        except np.linalg.linalg.LinAlgError as err:\n",
    "            linAlgError.append(path)\n",
    "    saveList(\"imgCropFails.txt\",cantSave)"
   ]
  }
 ],
 "metadata": {
  "kernelspec": {
   "display_name": "Python 2",
   "language": "python",
   "name": "python2"
  },
  "language_info": {
   "codemirror_mode": {
    "name": "ipython",
    "version": 2
   },
   "file_extension": ".py",
   "mimetype": "text/x-python",
   "name": "python",
   "nbconvert_exporter": "python",
   "pygments_lexer": "ipython2",
   "version": "2.7.6"
  }
 },
 "nbformat": 4,
 "nbformat_minor": 0
}
