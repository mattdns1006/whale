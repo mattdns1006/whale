{
 "cells": [
  {
   "cell_type": "code",
   "execution_count": 1,
   "metadata": {
    "collapsed": false
   },
   "outputs": [],
   "source": [
    "import os\n",
    "import glob\n",
    "import numpy as np\n",
    "import matplotlib.pyplot as plt\n",
    "import matplotlib.cm as cm\n",
    "from PIL import Image\n",
    "from pylab import rcParams\n",
    "from scipy.ndimage.interpolation import rotate, zoom\n",
    "import scipy as sp\n",
    "import cv2\n",
    "%matplotlib inline\n",
    "import sys\n",
    "from tqdm import tqdm\n",
    "import argparse\n",
    "from IPython.display import clear_output\n",
    "\n",
    "sys.path.append(\"/home/msmith/misc/pcaRotate/\") # Helper function\n",
    "from pcaRotate import main as rotate\n",
    "from pcaRotate import getRed\n",
    "from pylab import rcParams\n",
    "rcParams[\"figure.figsize\"] = 30,25\n",
    "\n",
    "\n",
    "def show():\n",
    "    plt.title(wp)\n",
    "    plt.subplot(161)\n",
    "    plt.imshow(orig)\n",
    "    plt.subplot(162)\n",
    "    plt.imshow(mask)\n",
    "    plt.subplot(163)\n",
    "    plt.imshow(maskRot,cmap=cm.gray)\n",
    "    plt.subplot(164)\n",
    "    plt.imshow(red,cmap=cm.gray)\n",
    "    #plt.subplot(165)\n",
    "    #plt.imshow(origRot)\n",
    "    plt.subplot(165)\n",
    "    plt.imshow(croppedHead)\n",
    "    plt.show()"
   ]
  },
  {
   "cell_type": "code",
   "execution_count": null,
   "metadata": {
    "collapsed": false,
    "scrolled": false
   },
   "outputs": [
    {
     "name": "stderr",
     "output_type": "stream",
     "text": [
      "\r",
      "  0%|          | 0/11468 [00:00<?, ?it/s]"
     ]
    },
    {
     "name": "stdout",
     "output_type": "stream",
     "text": [
      "Make sure image is in RGB order not BGR\n"
     ]
    },
    {
     "name": "stderr",
     "output_type": "stream",
     "text": [
      "  0%|          | 24/11468 [00:23<2:33:03,  1.25it/s]"
     ]
    }
   ],
   "source": [
    "if __name__ == \"__main__\": \n",
    "    imgPaths = glob.glob(\"/home/msmith/kaggle/whale/imgs/whale*/m1_ss_*\")\n",
    "    testPaths = glob.glob(\"/home/msmith/kaggle/whale/imgs/test*/m1_ss_*\")\n",
    "    print(\"Make sure image is in RGB order not BGR\")\n",
    "    imgPaths.sort()\n",
    "    imgPaths += testPaths\n",
    "    maskPath = \"m1_ss_\"\n",
    "    dstPath = \"head_ss_\"\n",
    "    cantSave = []\n",
    "    aspectRatio = 1.4\n",
    "    h = 400\n",
    "    w = int(h*aspectRatio)\n",
    "    count = 0\n",
    "    for path in tqdm(imgPaths):\n",
    "        \n",
    "        orig, mask = [cv2.imread(x)[:,:,::-1] for x in [path.replace(maskPath,\"w1_\"),path]]\n",
    "        croppedHead, maskRot, red = rotate(orig=orig,mask=mask,ellipseThresh=10,redThresh=[0.08,0.13],cntThresh=0.01,pad=20,aspectRatio=aspectRatio)\n",
    "        \n",
    "        wp = path.replace(maskPath,dstPath)\n",
    "        \n",
    "        if croppedHead.size == 0:\n",
    "            print(\"couldn't save {0}\".format(wp))\n",
    "            cantSave.append(wp)\n",
    "            show()\n",
    "        else:\n",
    "            croppedHead = cv2.resize(croppedHead,(w,h),interpolation=cv2.INTER_LINEAR)\n",
    "            cv2.imwrite(wp,croppedHead)\n",
    "        \n",
    "        if np.random.uniform() < 0.01:\n",
    "            show()\n",
    "            count += 1\n",
    "            \n",
    "        if count == 10:\n",
    "            clear_output()\n",
    "            count = 0\n"
   ]
  }
 ],
 "metadata": {
  "kernelspec": {
   "display_name": "Python 2",
   "language": "python",
   "name": "python2"
  },
  "language_info": {
   "codemirror_mode": {
    "name": "ipython",
    "version": 2
   },
   "file_extension": ".py",
   "mimetype": "text/x-python",
   "name": "python",
   "nbconvert_exporter": "python",
   "pygments_lexer": "ipython2",
   "version": "2.7.6"
  }
 },
 "nbformat": 4,
 "nbformat_minor": 0
}
