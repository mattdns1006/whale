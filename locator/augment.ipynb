{
 "cells": [
  {
   "cell_type": "code",
   "execution_count": 2,
   "metadata": {
    "collapsed": false
   },
   "outputs": [],
   "source": [
    "import os\n",
    "import glob\n",
    "import numpy as np\n",
    "import matplotlib.pyplot as plt\n",
    "from PIL import Image\n",
    "from pylab import rcParams\n",
    "from scipy.ndimage.interpolation import rotate, zoom, shift\n",
    "import time\n",
    "from tqdm import tqdm_notebook"
   ]
  },
  {
   "cell_type": "code",
   "execution_count": 21,
   "metadata": {
    "collapsed": false
   },
   "outputs": [
    {
     "name": "stdout",
     "output_type": "stream",
     "text": [
      "Number of labelled images = 346.\n"
     ]
    }
   ],
   "source": [
    "imgPaths = glob.glob(\"../imgs/*/w1_*\")\n",
    "labelled = glob.glob(\"../imgs/*/l_*\")\n",
    "print(\"Number of labelled images = %d.\" % len(labelled))"
   ]
  },
  {
   "cell_type": "code",
   "execution_count": 16,
   "metadata": {
    "collapsed": false
   },
   "outputs": [
    {
     "name": "stdout",
     "output_type": "stream",
     "text": [
      "Have 346 labels\n"
     ]
    }
   ],
   "source": [
    "pathAug = \"augmented\"\n",
    "if not os.path.exists(pathAug):\n",
    "    os.makedirs(pathAug)\n",
    "labels = glob.glob(\"../imgs/whale_*/lS_*.jpg\")\n",
    "nObs = len(labels)\n",
    "print(\"Have %d labels\"%nObs)"
   ]
  },
  {
   "cell_type": "code",
   "execution_count": 8,
   "metadata": {
    "collapsed": false
   },
   "outputs": [
    {
     "name": "stdout",
     "output_type": "stream",
     "text": [
      "reshaping to 450 by 300\n"
     ]
    }
   ],
   "source": [
    "egImg = Image.open(imgPaths[0])\n",
    "ar = (egImg.size[0]/float(egImg.size[1]))\n",
    "newWidth = 450\n",
    "newHeight = int(newWidth/ar)\n",
    "print(\"reshaping to %d by %d\" %(newWidth,newHeight))\n",
    "\n",
    "rcParams['figure.figsize'] = 9, ar*9"
   ]
  },
  {
   "cell_type": "code",
   "execution_count": 30,
   "metadata": {
    "collapsed": false,
    "scrolled": true
   },
   "outputs": [
    {
     "name": "stdout",
     "output_type": "stream",
     "text": [
      "\n",
      "Added 11468 more resized images \n"
     ]
    }
   ],
   "source": [
    "def resizeImages(labeledOrOriginal):\n",
    "\n",
    "    s = str(labeledOrOriginal)\n",
    "    imgPaths = glob.glob(\"../imgs/*/\"+s+\"_*\")\n",
    "    count = 0\n",
    "    nObs = len(imgPaths)\n",
    "    \n",
    "    for i in tqdm_notebook(range(nObs)):\n",
    "        imgPath = imgPaths[i]\n",
    "        dst = imgPath.replace(s+\"_\",s+\"S_\")\n",
    "        if os.path.exists(dst) == False:\n",
    "            img = Image.open(imgPath)\n",
    "            img = img.resize((newWidth,newHeight),Image.ANTIALIAS)\n",
    "            img.save(dst)TrueTrueTrue\n",
    "            count += 1True\n",
    "    print (\"Added %d more resized images \" % count)\n",
    "#resizeImages(\"l\") # downscale labelTrues\n",
    "#resizeImages(\"w1\") # downscale originals"
   ]
  },
  {
   "cell_type": "code",
   "execution_count": 18,
   "metadata": {
    "collapsed": false,
    "scrolled": true
   },
   "outputs": [
    {
     "name": "stderr",
     "output_type": "stream",
     "text": [
      "/usr/local/lib/python3.4/dist-packages/scipy/ndimage/interpolation.py:549: UserWarning: From scipy 0.13.0, the output shape of zoom() is calculated with round() instead of int() - for these inputs the size of the returned array has changed.\n",
      "  \"the returned array has changed.\", UserWarning)\n"
     ]
    },
    {
     "name": "stdout",
     "output_type": "stream",
     "text": [
      "\n"
     ]
    }
   ],
   "source": [
    "averageTimes = []\n",
    "imgNo = 0\n",
    "nImgs = len(labels)\n",
    "nAug = 10\n",
    "for i in tqdm_notebook(range(nImgs)[:],\"Images to augment\"):\n",
    "    y = labels[i]\n",
    "    x = y.replace(\"lS_\",\"w1S_\")\n",
    "    imgX, imgY = Image.open(x), Image.open(y)\n",
    "    r = np.array(imgY)\n",
    "    notRedYellow = (r[:,:,0] < 200) & (r[:,:,1] < 200) | (r[:,:,2] > 100)\n",
    "    r[notRedYellow] = 0\n",
    "    redYellow = np.invert(notRedYellow)\n",
    "    #r[redYellow] = 255\n",
    "    r = Image.fromarray(r)\n",
    "    \n",
    "    for i in tqdm_notebook(range(nAug),desc=\"\"):\n",
    "        \n",
    "        start = time.time()\n",
    "        angle = np.random.uniform(-30,30)\n",
    "        zoomFactor = np.random.uniform(0.9,1.1)\n",
    "        imgX_, r_ = imgX.copy(), r.copy()\n",
    "        shiftX, shiftY, _ = np.random.normal(0,25,3)\n",
    "        \n",
    "        \n",
    "        if np.random.uniform() < 0.5:\n",
    "            imgX_, r_ = [img.transpose(Image.FLIP_LEFT_RIGHT) for img in [imgX_,r_]]\n",
    "        imgX_ = rotate(imgX_,angle,mode=\"nearest\")\n",
    "        r_ = rotate(r_,angle,mode=\"constant\")\n",
    "        \n",
    "        imgX_ = shift(imgX_,(shiftX, shiftY,0),mode=\"constant\")\n",
    "        r_ = shift(r_,(shiftX, shiftY,0),mode=\"constant\")\n",
    "        \n",
    "        imgX_, r_ = [Image.fromarray(zoom(img,zoomFactor)) for img in [imgX_,r_]]\n",
    "        imgX_, r_ = [img.resize((newWidth,newHeight)) for img in [imgX_,r_]]\n",
    "        \n",
    "        imgX_.save(\"augmented/x_\"+str(imgNo)+\".png\")\n",
    "        r_.save(\"augmented/y_\"+str(imgNo)+\".png\")\n",
    "        \n",
    "        elapsed = time.time() - start\n",
    "        averageTimes.append(elapsed)\n",
    "        imgNo += 1\n"
   ]
  }
 ],
 "metadata": {
  "kernelspec": {
   "display_name": "Python 3",
   "language": "python",
   "name": "python3"
  },
  "language_info": {
   "codemirror_mode": {
    "name": "ipython",
    "version": 3
   },
   "file_extension": ".py",
   "mimetype": "text/x-python",
   "name": "python",
   "nbconvert_exporter": "python",
   "pygments_lexer": "ipython3",
   "version": "3.4.3"
  }
 },
 "nbformat": 4,
 "nbformat_minor": 1
}
