{
 "cells": [
  {
   "cell_type": "code",
   "execution_count": 1,
   "metadata": {
    "collapsed": false
   },
   "outputs": [],
   "source": [
    "import tensorflow as tf\n",
    "import numpy as np\n",
    "import pandas as pd\n",
    "import cv2\n",
    "import os, sys, glob\n",
    "from tqdm import tqdm\n",
    "from model import model1\n",
    "sys.path.insert(0,\"/home/msmith/misc/py/\")\n",
    "from performance import Performance\n",
    "from hStackBatch import hStackBatch\n",
    "from loadData import loadData\n",
    "from IPython.display import clear_output\n",
    "import matplotlib.pyplot as plt\n",
    "%matplotlib inline\n",
    "from pylab import rcParams\n",
    "rcParams[\"figure.figsize\"] = 20, 10\n",
    "\n",
    "def displayBatch(XY):\n",
    "    try:\n",
    "        X,Y = XY\n",
    "        X *= 255.0\n",
    "        names = train.decodeToName(Y)\n",
    "        bs = X.shape[0]\n",
    "        X = X.astype(np.uint8)\n",
    "        fig = plt.figure(figsize=(40,20))\n",
    "        idx = 0\n",
    "        for i in range(1,bs+1):\n",
    "            ax = fig.add_subplot(1,bs+1,i)\n",
    "            ax.set_xticklabels([])\n",
    "            ax.set_yticklabels([])\n",
    "            plt.imshow(X[idx])\n",
    "            ax.set_title(names[idx])\n",
    "            idx +=1\n",
    "        plt.show()\n",
    "    except IndexError:\n",
    "        print(\"OOB\")\n",
    "\n",
    "def show(X,Y=\"none\"):\n",
    "    bs, h, w, c = X.shape\n",
    "    X = X.reshape(bs*h,w,c)[:,:,::-1]\n",
    "    plt.imshow(X)\n",
    "    plt.title(Y)\n",
    "    plt.show()\n",
    "\n",
    "\n"
   ]
  },
  {
   "cell_type": "code",
   "execution_count": null,
   "metadata": {
    "collapsed": false
   },
   "outputs": [
    {
     "name": "stdout",
     "output_type": "stream",
     "text": [
      "Tensor(\"Mul:0\", shape=(?, ?, ?), dtype=float32)\n",
      "(6, 300, 400, 3)\n",
      "(6, 150, 200, 32)\n",
      "(6, 75, 100, 64)\n",
      "(6, 38, 50, 96)\n",
      "(6, 19, 25, 128)\n",
      "(6, 10, 13, 160)\n",
      "(6, 5, 7, 192)\n",
      "(6, 3, 4, 224)\n",
      "(6, 2, 2, 256)\n",
      "(6, 1024)\n",
      "(6, 447)\n"
     ]
    }
   ],
   "source": [
    "if __name__ == \"__main__\":\n",
    "    batchSize  = 6\n",
    "    batchCapacity = 40\n",
    "    nThreads = 16\n",
    "\n",
    "    ## HyperParameter defaults\n",
    "    h, w, c = 300, 400, 3\n",
    "    nClasses = 447\n",
    "    inDims = [None,h,w,c]\n",
    "    nFeatsInit = 32\n",
    "    nFeatsInc = 32\n",
    "    \n",
    "    load = 0\n",
    "    display = 1\n",
    "    disFreq = 400\n",
    "\n",
    "    # Decode csv\n",
    "    csvPathTr = \"/home/msmith/kaggle/whale/trainCV.csv\"\n",
    "    csvPathTe = \"/home/msmith/kaggle/whale/testCV.csv\"\n",
    "    xTr, yTr, yPathsTr = loadData(csvPathTr,shape=[h,w,c],batchSize=batchSize,batchCapacity=batchCapacity,nThreads=nThreads)\n",
    "    \n",
    "    # Define placeholders and model\n",
    "    yPredTr = model1(xTr,inDims=inDims,nClasses=nClasses,nFeatsInit=nFeatsInit,nFeatsInc=nFeatsInc) # model\n",
    "    ce = tf.reduce_mean(tf.nn.softmax_cross_entropy_with_logits(yPredTr,yTr))\n",
    "    trainStep = tf.train.AdamOptimizer(3e-2).minimize(ce)\n",
    "    correct = tf.equal(tf.argmax(yPredTr,1), tf.argmax(yTr,1))\n",
    "    accuracy = tf.reduce_mean(tf.cast(correct, tf.float32))\n",
    "    \n",
    "    #yPredTe = model1(xTe,inDims=inDims,nClasses=nClasses,nFeatsInit=nFeatsInit,nFeatsInc=nFeatsInc) # model\n",
    "    \n",
    "    \n",
    "\n",
    "    "
   ]
  },
  {
   "cell_type": "code",
   "execution_count": null,
   "metadata": {
    "collapsed": false,
    "scrolled": false
   },
   "outputs": [],
   "source": [
    "if __name__ == \"__main__\":\n",
    "\n",
    "    init = tf.initialize_all_variables()\n",
    "            \n",
    "    with tf.Session() as sess:\n",
    "        sess.run(init)\n",
    "        coord = tf.train.Coordinator()\n",
    "        threads = tf.train.start_queue_runners(sess=sess,coord=coord)\n",
    "                \n",
    "        count = 0\n",
    "        nIterations = 10000\n",
    "        losses = np.empty(nIterations)\n",
    "        for i in xrange(nIterations):\n",
    "            _, loss_, x_, y_, yPathsTr_ = sess.run([trainStep, ce, xTr, yTr, yPathsTr])\n",
    "            losses[i] = loss_\n",
    "            if i % 50 == 0 and i > 0:\n",
    "                clear_output()\n",
    "                plt.plot(losses[:i])\n",
    "                plt.show()\n",
    "                show(x_,loss_)\n",
    "                count += x_.shape[0]"
   ]
  }
 ],
 "metadata": {
  "kernelspec": {
   "display_name": "Python 2",
   "language": "python",
   "name": "python2"
  },
  "language_info": {
   "codemirror_mode": {
    "name": "ipython",
    "version": 2
   },
   "file_extension": ".py",
   "mimetype": "text/x-python",
   "name": "python",
   "nbconvert_exporter": "python",
   "pygments_lexer": "ipython2",
   "version": "2.7.6"
  }
 },
 "nbformat": 4,
 "nbformat_minor": 0
}
