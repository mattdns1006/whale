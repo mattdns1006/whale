{
 "cells": [
  {
   "cell_type": "code",
   "execution_count": 1,
   "metadata": {
    "collapsed": true
   },
   "outputs": [],
   "source": [
    "import os\n",
    "import glob\n",
    "import numpy as np\n",
    "import matplotlib.pyplot as plt\n",
    "from PIL import Image\n",
    "from pylab import rcParams\n",
    "from scipy.ndimage.interpolation import rotate, zoom\n",
    "import scipy as sp\n",
    "%matplotlib inline"
   ]
  },
  {
   "cell_type": "code",
   "execution_count": null,
   "metadata": {
    "collapsed": false
   },
   "outputs": [],
   "source": [
    "imgPaths = glob.glob(\"../imgs/whale_*/w_*\") # not test\n",
    "\n",
    "nObs = len(imgPaths)\n",
    "subset = np.random.randint(0,nObs,10)"
   ]
  },
  {
   "cell_type": "code",
   "execution_count": null,
   "metadata": {
    "collapsed": false,
    "scrolled": false
   },
   "outputs": [],
   "source": [
    "for i in range(nObs)[:]:\n",
    "    imgPath = imgPaths[i]\n",
    "    x,mask = Image.open(imgPath), Image.open(imgPath.replace(\"w_\",\"lf_\"))\n",
    "    w, h = x.size\n",
    "    \n",
    "    \n",
    "    mask = mask.resize((w,h),Image.ANTIALIAS)\n",
    "    x = np.array(x)\n",
    "    threshold = 10\n",
    "    maskThr = np.array(mask.point(lambda p: p > threshold and 255))\n",
    "    maskThr = np.tile(np.expand_dims(maskThr.astype(bool),3),(1,1,3))\n",
    "    \n",
    "    try:\n",
    "        mx, my, _ = map(int,sp.ndimage.center_of_mass(maskThr))\n",
    "\n",
    "        w2 = 300\n",
    "        x1 = mx-w2\n",
    "        y2 = my+w2\n",
    "        y1 = my-w2\n",
    "        x2 = mx+w2\n",
    "\n",
    "        cropped = x.copy()\n",
    "        cropped = cropped[x1:x2,y1:y2]\n",
    "        cropped = Image.fromarray(cropped)\n",
    "        cropped.save(imgPath.replace(\"w_\",\"hS_\"))\n",
    "        def showCropped():\n",
    "            plt.imshow(cropped)\n",
    "            plt.title(imgPath)\n",
    "            plt.show()\n",
    "            \n",
    "        if np.random.uniform()< 0.01:\n",
    "            showCropped()\n",
    "    except ValueError:\n",
    "        plt.title(imgPath + \" (COULDN'T CROP)\")\n",
    "        plt.imshow(np.hstack((x,maskThr)))\n",
    "        plt.show()"
   ]
  },
  {
   "cell_type": "code",
   "execution_count": null,
   "metadata": {
    "collapsed": true
   },
   "outputs": [],
   "source": []
  }
 ],
 "metadata": {
  "kernelspec": {
   "display_name": "Python 3",
   "language": "python",
   "name": "python3"
  },
  "language_info": {
   "codemirror_mode": {
    "name": "ipython",
    "version": 3
   },
   "file_extension": ".py",
   "mimetype": "text/x-python",
   "name": "python",
   "nbconvert_exporter": "python",
   "pygments_lexer": "ipython3",
   "version": "3.5.2"
  }
 },
 "nbformat": 4,
 "nbformat_minor": 1
}
